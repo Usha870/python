{
 "cells": [
  {
   "cell_type": "code",
   "execution_count": 14,
   "metadata": {},
   "outputs": [
    {
     "name": "stdout",
     "output_type": "stream",
     "text": [
      "Sum of the list is== 10\n",
      "Product of the list is== 24\n"
     ]
    }
   ],
   "source": [
    "def add(l):\n",
    "    list=l\n",
    "    sum=0\n",
    "    for i in list:\n",
    "        sum=sum+i\n",
    "    return sum\n",
    "def mul(l):\n",
    "    list=l\n",
    "    product=1\n",
    "    for i in list:\n",
    "        product=product*i\n",
    "    return product\n",
    "def my_reduce(func,l):\n",
    "    return func(l)\n",
    "l=[1,2,3,4]\n",
    "print(\"Sum of the list is==\",my_reduce(add,l))\n",
    "print(\"Product of the list is==\",my_reduce(mul,l))"
   ]
  },
  {
   "cell_type": "code",
   "execution_count": 23,
   "metadata": {},
   "outputs": [
    {
     "name": "stdout",
     "output_type": "stream",
     "text": [
      "Filtered vowels list is==== ['e', 'u']\n",
      "Filtered even numbers in the list is=== [2, 4]\n",
      "Filtered odd numbers in the list is==== [1, 3]\n"
     ]
    }
   ],
   "source": [
    "def even(l):\n",
    "    list=l\n",
    "    evenList=[]\n",
    "    for i in list:\n",
    "        if(i%2==0):\n",
    "            evenList.append(i)\n",
    "    return evenList\n",
    "\n",
    "def odd(l):\n",
    "    list=l\n",
    "    oddList=[]\n",
    "    for i in list:\n",
    "        if(i%2!=0):\n",
    "            oddList.append(i)\n",
    "    return oddList\n",
    "def vowels(l):\n",
    "    v=['a','e','i','o','u']\n",
    "    vowelsList=[]\n",
    "    for i in l:\n",
    "        if(i in v):\n",
    "            vowelsList.append(i)\n",
    "    return vowelsList\n",
    "def my_filter(func,l):\n",
    "    return func(l)\n",
    "l=[1,2,3,4]\n",
    "s=['e','r','q','u']\n",
    "print(\"Filtered vowels list is====\",my_filter(vowels,s))\n",
    "print(\"Filtered even numbers in the list is===\",my_filter(even,l))\n",
    "print(\"Filtered odd numbers in the list is====\",my_filter(odd,l))\n",
    "    "
   ]
  },
  {
   "cell_type": "code",
   "execution_count": 70,
   "metadata": {},
   "outputs": [
    {
     "name": "stdout",
     "output_type": "stream",
     "text": [
      "['A', 'C', 'A', 'D', 'G', 'I', 'L', 'D']\n",
      "['x', 'xx', 'xxx', 'xxxx', 'y', 'yy', 'yyy', 'yyyy', 'z', 'zz', 'zzz', 'zzzz']\n",
      "['x', 'y', 'z', 'xx', 'yy', 'zz', 'xxx', 'yyy', 'zzz', 'xxxx', 'yyyy', 'zzzz']\n",
      "[[3], [4], [5], [4], [5], [6], [5], [6], [7]]\n",
      "[[3, 4, 5, 6], [4, 5, 6, 7], [5, 6, 7, 8]]\n",
      "[(1, 1), (2, 1), (3, 1), (1, 2), (2, 2), (3, 2), (1, 3), (2, 3), (3, 3)]\n"
     ]
    }
   ],
   "source": [
    "str=\"ACADGILD\"\n",
    "l=[i for i in str]\n",
    "print(l)\n",
    "\n",
    "list=['x','y','z']\n",
    "str=[ item*i for item in list for i in range(1,5)]\n",
    "print(str)\n",
    "\n",
    "str=[item*i for i in range(1,5) for item in list]\n",
    "print(str)\n",
    "\n",
    "lt=[2,3,4]\n",
    "\n",
    "result=[ [i+j] for i in lt for j in range(1,4)]\n",
    "print(result)\n",
    "\n",
    "lst=[2,3,4,5]\n",
    "result=[[i+j for i in lst] for j in range(1,4)]\n",
    "print(result)\n",
    "\n",
    "list=[1,2,3]\n",
    "result=[(j,i) for i in list for j in list]\n",
    "print(result)\n",
    "\n"
   ]
  },
  {
   "cell_type": "code",
   "execution_count": 86,
   "metadata": {},
   "outputs": [
    {
     "name": "stdout",
     "output_type": "stream",
     "text": [
      "Longest in the list is== Three\n"
     ]
    }
   ],
   "source": [
    "# longest word in a list\n",
    "def longest(l):\n",
    "    big=l[0]\n",
    "    for i in l:\n",
    "        if(len(i)>=len(big)):\n",
    "            big=i\n",
    "    return big\n",
    "\n",
    "inputlist=[\"one\",\"two\",\"Three\",\"four\"]\n",
    "print(\"Longest in the list is==\",longest(inputlist)) "
   ]
  },
  {
   "cell_type": "code",
   "execution_count": 130,
   "metadata": {},
   "outputs": [
    {
     "name": "stdout",
     "output_type": "stream",
     "text": [
      "Enter a side 1\n",
      "Enter b side 2\n",
      "Enter c side 3\n",
      "Area of triange is=== 66.93280212272605\n"
     ]
    }
   ],
   "source": [
    "class Parent:\n",
    "  def __init__(self, s):\n",
    "    self.s = s\n",
    "    self.a=int(input(\"Enter a side \"))\n",
    "    self.b=int(input(\"Enter b side \"))\n",
    "    self.c=int(input(\"Enter c side \"))\n",
    "\n",
    "    \n",
    "class Child(Parent):\n",
    "  def __init__(self, s):\n",
    "    super().__init__(s)\n",
    "    \n",
    "  def areaTriangle(self):\n",
    "    self.area=(self.s*(self.s-self.b)*(self.s-self.b)*(self.s-self.c))**0.5\n",
    "  def printArea(self):\n",
    "    print(\"Area of triange is===\",self.area)\n",
    "    \n",
    "x = Child(10)\n",
    "x.areaTriangle()\n",
    "x.printArea()"
   ]
  },
  {
   "cell_type": "code",
   "execution_count": 132,
   "metadata": {},
   "outputs": [
    {
     "name": "stdout",
     "output_type": "stream",
     "text": [
      "Words greater lenght than 5 is== ['mumbai', 'Chennai', 'Bangalore']\n"
     ]
    }
   ],
   "source": [
    "def filter_long_words(l,n):\n",
    "    result_list=[]\n",
    "    for i in l:\n",
    "        if(len(i)>n):\n",
    "            result_list.append(i)\n",
    "    return(result_list)\n",
    "\n",
    "list=[\"mumbai\",\"Delhi\",\"Chennai\",\"Bangalore\"]\n",
    "result_list=filter_long_words(list,5)\n",
    "print(\"Words greater lenght than 5 is==\",result_list)"
   ]
  },
  {
   "cell_type": "code",
   "execution_count": 134,
   "metadata": {},
   "outputs": [
    {
     "name": "stdout",
     "output_type": "stream",
     "text": [
      "lenght corresponds to each word in the list  [6, 5, 7, 9]\n"
     ]
    }
   ],
   "source": [
    "def word_lenght(l):\n",
    "    result_list=[]\n",
    "    for i in l:\n",
    "        result_list.append(len(i))\n",
    "    return result_list\n",
    "list=[\"mumbai\",\"Delhi\",\"Chennai\",\"Bangalore\"]\n",
    "result_list=word_lenght(list)\n",
    "print(\"lenght corresponds to each word in the list \",result_list)"
   ]
  },
  {
   "cell_type": "code",
   "execution_count": 136,
   "metadata": {},
   "outputs": [
    {
     "name": "stdout",
     "output_type": "stream",
     "text": [
      "Enter a character w\n",
      "False\n"
     ]
    }
   ],
   "source": [
    "def is_vowel(ch):\n",
    "    vowel_list=['a','e','i','o','u']\n",
    "    if(ch in vowel_list):\n",
    "        return True\n",
    "    else:\n",
    "        return False\n",
    "ch=input(\"Enter a character \")\n",
    "print(is_vowel(ch))"
   ]
  }
 ],
 "metadata": {
  "kernelspec": {
   "display_name": "Python 3",
   "language": "python",
   "name": "python3"
  },
  "language_info": {
   "codemirror_mode": {
    "name": "ipython",
    "version": 3
   },
   "file_extension": ".py",
   "mimetype": "text/x-python",
   "name": "python",
   "nbconvert_exporter": "python",
   "pygments_lexer": "ipython3",
   "version": "3.7.3"
  }
 },
 "nbformat": 4,
 "nbformat_minor": 2
}
